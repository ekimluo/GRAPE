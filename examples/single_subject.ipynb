{
 "cells": [
  {
   "cell_type": "code",
   "execution_count": 19,
   "metadata": {},
   "outputs": [],
   "source": [
    "import sys\n",
    "import mne\n",
    "import pandas as pd\n",
    "import os"
   ]
  },
  {
   "cell_type": "code",
   "execution_count": 20,
   "metadata": {},
   "outputs": [],
   "source": [
    "sys.path.append(\"..\")\n",
    "from grape.preprocessing_module import Participant"
   ]
  },
  {
   "cell_type": "code",
   "execution_count": 21,
   "metadata": {},
   "outputs": [],
   "source": [
    "pid = '002'\n",
    "data_dir = '../data'"
   ]
  },
  {
   "cell_type": "markdown",
   "metadata": {},
   "source": [
    "Create some empty csv files to save processed data into."
   ]
  },
  {
   "cell_type": "code",
   "execution_count": 22,
   "metadata": {},
   "outputs": [],
   "source": [
    "rejection_df = pd.DataFrame(columns=['pid', 'total_epochs', 'dropped_epochs', 'perc_dropped'])\n",
    "amplitude_latency_df = pd.DataFrame(columns=['pid', 'component', 'amplitude_peak', 'latency_peak'])\n",
    "\n",
    "cleaned_data_dir = 'cleaned_data'\n",
    "cleaned_data = 'amplitude_latency_metrics.csv'\n",
    "rejection_data = 'rejection_metrics.csv'\n",
    "\n",
    "# Create the full path to the csv file\n",
    "cleaned_file_path = os.path.join(cleaned_data_dir, cleaned_data)\n",
    "rejection_file_path = os.path.join(cleaned_data_dir, rejection_data)\n",
    "\n",
    "# Check if csv files exist or create them\n",
    "if not os.path.exists(cleaned_file_path):\n",
    "    amplitude_latency_df.to_csv(cleaned_file_path, index=False)\n",
    "\n",
    "if not os.path.exists(rejection_file_path):\n",
    "    rejection_df.to_csv(rejection_file_path, index=False)"
   ]
  },
  {
   "cell_type": "markdown",
   "metadata": {},
   "source": [
    "Define channels for each region, as well time windows for each region."
   ]
  },
  {
   "cell_type": "code",
   "execution_count": 23,
   "metadata": {},
   "outputs": [],
   "source": [
    "N1_channels = ['E22', 'E18', 'E16', 'E10', 'E3', 'E19', 'E11', 'E4', 'E20', 'E12','E5',\n",
    "               'E26', 'E15', 'E9', 'E2', 'E23', 'E124', 'E118']\n",
    "\n",
    "N2_channels = ['E26', 'E22', 'E15', 'E9', 'E2', 'E23', 'E18', 'E16', 'E10', 'E3',\n",
    "               'E24', 'E19', 'E11', 'E4', 'E124', 'E20', 'E12', 'E5', 'E118', 'E13', \n",
    "               'E6', 'E112', 'E7', 'E106']\n",
    "\n",
    "\n",
    "P3_channels = ['E58', 'E65', 'E70', 'E75', 'E83', 'E90', 'E96', 'E51', 'E59', 'E66', \n",
    "               'E71', 'E76', 'E84', 'E91', 'E97', 'E47', 'E52', 'E60', 'E67', 'E72', \n",
    "               'E77', 'E85', 'E92', 'E98', 'E42', 'E53', 'E61', 'E62', 'E78', 'E86', \n",
    "               'E93', 'E37', 'E54', 'COM', 'E79', 'E87', 'E31', 'E55', 'E80', 'VREF']\n",
    "\n",
    "LPP_channels = P3_channels  # LPP uses the same channels as P3\n",
    "\n",
    "time_window_N1 = [0.07, 0.15]\n",
    "time_window_N2 = [0.2, 0.3]\n",
    "time_window_P3 = [0.35, 0.45]\n",
    "time_window_LPP = [0.5, 0.8]"
   ]
  },
  {
   "cell_type": "markdown",
   "metadata": {},
   "source": [
    "Load in data for this participant. "
   ]
  },
  {
   "cell_type": "code",
   "execution_count": 24,
   "metadata": {},
   "outputs": [],
   "source": [
    "def load_data(pid, data_dir,\n",
    "              montage = 'GSN-HydroCel-128', \n",
    "              channel_types = {'E127': 'eog', 'E126': 'eog', 'E17': 'eog', 'E15': 'eog', 'E21': 'eog', 'E14': 'eog', 'VREF':'misc'}):\n",
    "    '''\n",
    "    Load raw EEG data from the filepath\n",
    "    '''\n",
    "    mff_file = os.path.join(data_dir, f'{pid}.mff')\n",
    "    raw_data = mne.io.read_raw_egi(mff_file, preload=True, verbose=0)\n",
    "    # Set channel types\n",
    "    raw_data.set_channel_types(channel_types)    \n",
    "    # Set montage\n",
    "    raw_data.set_montage(montage)\n",
    "    return raw_data"
   ]
  },
  {
   "cell_type": "code",
   "execution_count": 25,
   "metadata": {},
   "outputs": [
    {
     "name": "stderr",
     "output_type": "stream",
     "text": [
      "/tmp/ipykernel_30180/1216271020.py:10: RuntimeWarning: The unit for channel(s) VREF has changed from V to NA.\n",
      "  raw_data.set_channel_types(channel_types)\n",
      "/tmp/ipykernel_30180/1216271020.py:12: RuntimeWarning: Not setting positions of 6 eog channels found in montage:\n",
      "['E14', 'E15', 'E17', 'E21', 'E126', 'E127']\n",
      "Consider setting the channel types to be of EEG/sEEG/ECoG/DBS/fNIRS using inst.set_channel_types before calling inst.set_montage, or omit these channels when creating your montage.\n",
      "  raw_data.set_montage(montage)\n"
     ]
    }
   ],
   "source": [
    "my_data = load_data(pid,data_dir)"
   ]
  },
  {
   "cell_type": "code",
   "execution_count": 26,
   "metadata": {},
   "outputs": [
    {
     "name": "stdout",
     "output_type": "stream",
     "text": [
      "RAW DATA SUMMARY:\n"
     ]
    },
    {
     "data": {
      "text/html": [
       "<details open>\n",
       "    <summary><strong>General</strong></summary>\n",
       "    <table class=\"table table-hover table-striped table-sm table-responsive small\">\n",
       "        <tr>\n",
       "            <th>Measurement date</th>\n",
       "            \n",
       "            <td>February 28, 2023  13:44:56 GMT</td>\n",
       "            \n",
       "        </tr>\n",
       "        <tr>\n",
       "            <th>Experimenter</th>\n",
       "            \n",
       "            <td>Unknown</td>\n",
       "            \n",
       "        </tr>\n",
       "        <tr>\n",
       "            <th>Participant</th>\n",
       "            \n",
       "            <td>Unknown</td>\n",
       "            \n",
       "        </tr>\n",
       "    </table>\n",
       "    </details>\n",
       "    <details open>\n",
       "        <summary><strong>Channels</strong></summary>\n",
       "        <table class=\"table table-hover table-striped table-sm table-responsive small\">\n",
       "            <tr>\n",
       "                <th>Digitized points</th>\n",
       "                \n",
       "                <td>125 points</td>\n",
       "                \n",
       "            </tr>\n",
       "            <tr>\n",
       "                <th>Good channels</th>\n",
       "                <td>122 EEG, 6 EOG, 1 misc, 2 Stimulus</td>\n",
       "            </tr>\n",
       "            <tr>\n",
       "                <th>Bad channels</th>\n",
       "                <td>None</td>\n",
       "            </tr>\n",
       "            <tr>\n",
       "                <th>EOG channels</th>\n",
       "                <td>E14, E15, E17, E21, E126, E127</td>\n",
       "            </tr>\n",
       "            <tr>\n",
       "                <th>ECG channels</th>\n",
       "                <td>Not available</td>\n",
       "            </tr>\n",
       "        </table>\n",
       "        </details>\n",
       "        <details open>\n",
       "            <summary><strong>Data</strong></summary>\n",
       "            <table class=\"table table-hover table-striped table-sm table-responsive small\">\n",
       "                \n",
       "                <tr>\n",
       "                    <th>Sampling frequency</th>\n",
       "                    <td>500.00 Hz</td>\n",
       "                </tr>\n",
       "                \n",
       "                \n",
       "                <tr>\n",
       "                    <th>Highpass</th>\n",
       "                    <td>0.00 Hz</td>\n",
       "                </tr>\n",
       "                \n",
       "                \n",
       "                <tr>\n",
       "                    <th>Lowpass</th>\n",
       "                    <td>250.00 Hz</td>\n",
       "                </tr>\n",
       "                \n",
       "                \n",
       "                \n",
       "                <tr>\n",
       "                    <th>Filenames</th>\n",
       "                    <td>signal1.bin</td>\n",
       "                </tr>\n",
       "                \n",
       "                \n",
       "                <tr>\n",
       "                    <th>Duration</th>\n",
       "                    <td>00:06:44 (HH:MM:SS)</td>\n",
       "                </tr>\n",
       "                \n",
       "            </table>\n",
       "            </details>"
      ],
      "text/plain": [
       "<RawMff | signal1.bin, 131 x 201716 (403.4 s), ~201.8 MB, data loaded>"
      ]
     },
     "execution_count": 26,
     "metadata": {},
     "output_type": "execute_result"
    }
   ],
   "source": [
    "# Set verbose=\"WARNING\" to see less output from each method. \n",
    "p = Participant(pid, data_dir, verbose=\"INFO\")\n",
    "\n",
    "out = p.add_raw_data(my_data)\n",
    "print(\"RAW DATA SUMMARY:\")\n",
    "out"
   ]
  },
  {
   "cell_type": "code",
   "execution_count": 27,
   "metadata": {},
   "outputs": [
    {
     "name": "stdout",
     "output_type": "stream",
     "text": [
      "Filtering raw data in 1 contiguous segment\n",
      "Setting up band-pass filter from 0.1 - 40 Hz\n",
      "\n",
      "FIR filter parameters\n",
      "---------------------\n",
      "Designing a one-pass, zero-phase, non-causal bandpass filter:\n",
      "- Windowed time-domain design (firwin) method\n",
      "- Hamming window with 0.0194 passband ripple and 53 dB stopband attenuation\n",
      "- Lower passband edge: 0.10\n",
      "- Lower transition bandwidth: 0.10 Hz (-6 dB cutoff frequency: 0.05 Hz)\n",
      "- Upper passband edge: 40.00 Hz\n",
      "- Upper transition bandwidth: 10.00 Hz (-6 dB cutoff frequency: 45.00 Hz)\n",
      "- Filter length: 16501 samples (33.002 s)\n",
      "\n"
     ]
    },
    {
     "name": "stderr",
     "output_type": "stream",
     "text": [
      "[Parallel(n_jobs=1)]: Using backend SequentialBackend with 1 concurrent workers.\n",
      "[Parallel(n_jobs=1)]: Done   1 out of   1 | elapsed:    0.0s remaining:    0.0s\n",
      "[Parallel(n_jobs=1)]: Done   2 out of   2 | elapsed:    0.0s remaining:    0.0s\n",
      "[Parallel(n_jobs=1)]: Done   3 out of   3 | elapsed:    0.0s remaining:    0.0s\n",
      "[Parallel(n_jobs=1)]: Done   4 out of   4 | elapsed:    0.0s remaining:    0.0s\n",
      "[Parallel(n_jobs=1)]: Done 122 out of 122 | elapsed:    0.6s finished\n"
     ]
    }
   ],
   "source": [
    "out = p.filter_data()"
   ]
  },
  {
   "cell_type": "code",
   "execution_count": 28,
   "metadata": {},
   "outputs": [
    {
     "name": "stdout",
     "output_type": "stream",
     "text": [
      "FILTERED DATA SUMMARY:\n"
     ]
    },
    {
     "data": {
      "text/html": [
       "<details open>\n",
       "    <summary><strong>General</strong></summary>\n",
       "    <table class=\"table table-hover table-striped table-sm table-responsive small\">\n",
       "        <tr>\n",
       "            <th>Measurement date</th>\n",
       "            \n",
       "            <td>February 28, 2023  13:44:56 GMT</td>\n",
       "            \n",
       "        </tr>\n",
       "        <tr>\n",
       "            <th>Experimenter</th>\n",
       "            \n",
       "            <td>Unknown</td>\n",
       "            \n",
       "        </tr>\n",
       "        <tr>\n",
       "            <th>Participant</th>\n",
       "            \n",
       "            <td>Unknown</td>\n",
       "            \n",
       "        </tr>\n",
       "    </table>\n",
       "    </details>\n",
       "    <details open>\n",
       "        <summary><strong>Channels</strong></summary>\n",
       "        <table class=\"table table-hover table-striped table-sm table-responsive small\">\n",
       "            <tr>\n",
       "                <th>Digitized points</th>\n",
       "                \n",
       "                <td>125 points</td>\n",
       "                \n",
       "            </tr>\n",
       "            <tr>\n",
       "                <th>Good channels</th>\n",
       "                <td>122 EEG, 6 EOG, 1 misc, 2 Stimulus</td>\n",
       "            </tr>\n",
       "            <tr>\n",
       "                <th>Bad channels</th>\n",
       "                <td>None</td>\n",
       "            </tr>\n",
       "            <tr>\n",
       "                <th>EOG channels</th>\n",
       "                <td>E14, E15, E17, E21, E126, E127</td>\n",
       "            </tr>\n",
       "            <tr>\n",
       "                <th>ECG channels</th>\n",
       "                <td>Not available</td>\n",
       "            </tr>\n",
       "        </table>\n",
       "        </details>\n",
       "        <details open>\n",
       "            <summary><strong>Data</strong></summary>\n",
       "            <table class=\"table table-hover table-striped table-sm table-responsive small\">\n",
       "                \n",
       "                <tr>\n",
       "                    <th>Sampling frequency</th>\n",
       "                    <td>500.00 Hz</td>\n",
       "                </tr>\n",
       "                \n",
       "                \n",
       "                <tr>\n",
       "                    <th>Highpass</th>\n",
       "                    <td>0.10 Hz</td>\n",
       "                </tr>\n",
       "                \n",
       "                \n",
       "                <tr>\n",
       "                    <th>Lowpass</th>\n",
       "                    <td>40.00 Hz</td>\n",
       "                </tr>\n",
       "                \n",
       "                \n",
       "                \n",
       "                <tr>\n",
       "                    <th>Filenames</th>\n",
       "                    <td>signal1.bin</td>\n",
       "                </tr>\n",
       "                \n",
       "                \n",
       "                <tr>\n",
       "                    <th>Duration</th>\n",
       "                    <td>00:06:44 (HH:MM:SS)</td>\n",
       "                </tr>\n",
       "                \n",
       "            </table>\n",
       "            </details>"
      ],
      "text/plain": [
       "<RawMff | signal1.bin, 131 x 201716 (403.4 s), ~201.8 MB, data loaded>"
      ]
     },
     "execution_count": 28,
     "metadata": {},
     "output_type": "execute_result"
    }
   ],
   "source": [
    "print(\"FILTERED DATA SUMMARY:\")\n",
    "out"
   ]
  },
  {
   "cell_type": "code",
   "execution_count": 29,
   "metadata": {},
   "outputs": [
    {
     "name": "stdout",
     "output_type": "stream",
     "text": [
      "There are 27 bad channels found using automated bad channel detection for subject 002\n",
      "27 bad channels were removed for subject 002\n"
     ]
    }
   ],
   "source": [
    "p.find_bad_channels()\n",
    "p.remove_bad_channels()"
   ]
  },
  {
   "cell_type": "code",
   "execution_count": 30,
   "metadata": {},
   "outputs": [
    {
     "name": "stdout",
     "output_type": "stream",
     "text": [
      "64 events found on stim channel STI 014\n",
      "Event IDs: [1]\n"
     ]
    },
    {
     "name": "stdout",
     "output_type": "stream",
     "text": [
      "64 events found on stim channel STI 014\n",
      "Event IDs: [1]\n",
      "Fitting ICA to data using 97 channels (please be patient, this may take a while)\n",
      "Selecting by number: 15 components\n",
      " \n",
      "Fitting ICA took 7.4s.\n"
     ]
    }
   ],
   "source": [
    "_ = p.fit_ica(method = 'infomax')"
   ]
  },
  {
   "cell_type": "code",
   "execution_count": 31,
   "metadata": {},
   "outputs": [
    {
     "name": "stdout",
     "output_type": "stream",
     "text": [
      "Effective window size : 0.512 (s)\n"
     ]
    },
    {
     "name": "stderr",
     "output_type": "stream",
     "text": [
      "[Parallel(n_jobs=1)]: Using backend SequentialBackend with 1 concurrent workers.\n",
      "[Parallel(n_jobs=1)]: Done   1 out of   1 | elapsed:    0.1s remaining:    0.0s\n",
      "[Parallel(n_jobs=1)]: Done   1 out of   1 | elapsed:    0.1s finished\n"
     ]
    },
    {
     "name": "stdout",
     "output_type": "stream",
     "text": [
      "There are 4 bad ICA components for subject 002\n",
      "4 bad ICA components removed for subject 002\n"
     ]
    }
   ],
   "source": [
    "p.find_bad_ica()\n",
    "p.remove_bad_ica()"
   ]
  },
  {
   "cell_type": "code",
   "execution_count": 32,
   "metadata": {},
   "outputs": [
    {
     "name": "stdout",
     "output_type": "stream",
     "text": [
      "Applying ICA to Raw instance\n"
     ]
    },
    {
     "name": "stdout",
     "output_type": "stream",
     "text": [
      "    Transforming to ICA space (15 components)\n",
      "    Zeroing out 4 ICA components\n",
      "    Projecting back using 97 PCA components\n"
     ]
    }
   ],
   "source": [
    "out = p.apply_ica()"
   ]
  },
  {
   "cell_type": "code",
   "execution_count": 33,
   "metadata": {},
   "outputs": [
    {
     "name": "stdout",
     "output_type": "stream",
     "text": [
      "POST-ICA SUMMARY:\n"
     ]
    },
    {
     "data": {
      "text/html": [
       "<details open>\n",
       "    <summary><strong>General</strong></summary>\n",
       "    <table class=\"table table-hover table-striped table-sm table-responsive small\">\n",
       "        <tr>\n",
       "            <th>Measurement date</th>\n",
       "            \n",
       "            <td>February 28, 2023  13:44:56 GMT</td>\n",
       "            \n",
       "        </tr>\n",
       "        <tr>\n",
       "            <th>Experimenter</th>\n",
       "            \n",
       "            <td>Unknown</td>\n",
       "            \n",
       "        </tr>\n",
       "        <tr>\n",
       "            <th>Participant</th>\n",
       "            \n",
       "            <td>Unknown</td>\n",
       "            \n",
       "        </tr>\n",
       "    </table>\n",
       "    </details>\n",
       "    <details open>\n",
       "        <summary><strong>Channels</strong></summary>\n",
       "        <table class=\"table table-hover table-striped table-sm table-responsive small\">\n",
       "            <tr>\n",
       "                <th>Digitized points</th>\n",
       "                \n",
       "                <td>125 points</td>\n",
       "                \n",
       "            </tr>\n",
       "            <tr>\n",
       "                <th>Good channels</th>\n",
       "                <td>97 EEG, 4 EOG, 1 misc, 2 Stimulus</td>\n",
       "            </tr>\n",
       "            <tr>\n",
       "                <th>Bad channels</th>\n",
       "                <td>None</td>\n",
       "            </tr>\n",
       "            <tr>\n",
       "                <th>EOG channels</th>\n",
       "                <td>E14, E15, E17, E21</td>\n",
       "            </tr>\n",
       "            <tr>\n",
       "                <th>ECG channels</th>\n",
       "                <td>Not available</td>\n",
       "            </tr>\n",
       "        </table>\n",
       "        </details>\n",
       "        <details open>\n",
       "            <summary><strong>Data</strong></summary>\n",
       "            <table class=\"table table-hover table-striped table-sm table-responsive small\">\n",
       "                \n",
       "                <tr>\n",
       "                    <th>Sampling frequency</th>\n",
       "                    <td>500.00 Hz</td>\n",
       "                </tr>\n",
       "                \n",
       "                \n",
       "                <tr>\n",
       "                    <th>Highpass</th>\n",
       "                    <td>0.10 Hz</td>\n",
       "                </tr>\n",
       "                \n",
       "                \n",
       "                <tr>\n",
       "                    <th>Lowpass</th>\n",
       "                    <td>40.00 Hz</td>\n",
       "                </tr>\n",
       "                \n",
       "                \n",
       "                \n",
       "                <tr>\n",
       "                    <th>Filenames</th>\n",
       "                    <td>signal1.bin</td>\n",
       "                </tr>\n",
       "                \n",
       "                \n",
       "                <tr>\n",
       "                    <th>Duration</th>\n",
       "                    <td>00:06:44 (HH:MM:SS)</td>\n",
       "                </tr>\n",
       "                \n",
       "            </table>\n",
       "            </details>"
      ],
      "text/plain": [
       "<RawMff | signal1.bin, 104 x 201716 (403.4 s), ~160.2 MB, data loaded>"
      ]
     },
     "execution_count": 33,
     "metadata": {},
     "output_type": "execute_result"
    }
   ],
   "source": [
    "print(\"POST-ICA SUMMARY:\")\n",
    "out"
   ]
  },
  {
   "cell_type": "code",
   "execution_count": 34,
   "metadata": {},
   "outputs": [
    {
     "name": "stdout",
     "output_type": "stream",
     "text": [
      "64 events found on stim channel stim\n",
      "Event IDs: [1]\n",
      "Not setting metadata\n",
      "64 matching events found\n",
      "Applying baseline correction (mode: mean)\n",
      "0 projection items activated\n",
      "Using data from preloaded Raw for 64 events and 701 original time points ...\n",
      "0 bad epochs dropped\n",
      "EEG channel type selected for re-referencing\n",
      "Applying average reference.\n"
     ]
    },
    {
     "name": "stdout",
     "output_type": "stream",
     "text": [
      "Applying a custom ('EEG',) reference.\n"
     ]
    }
   ],
   "source": [
    "_ = p.create_epochs()"
   ]
  },
  {
   "cell_type": "code",
   "execution_count": 35,
   "metadata": {},
   "outputs": [],
   "source": [
    "# Create evoked objects for each component\n",
    "evoked_n1 = p.create_evoked(comp_channels = N1_channels)\n",
    "evoked_n2 = p.create_evoked(comp_channels = N2_channels)\n",
    "evoked_p3 = p.create_evoked(comp_channels = P3_channels)\n",
    "evoked_lpp = p.create_evoked(comp_channels = LPP_channels)"
   ]
  },
  {
   "cell_type": "code",
   "execution_count": 36,
   "metadata": {},
   "outputs": [],
   "source": [
    "# Find peak amplitude and latency for each component\n",
    "amp_n1, lat_n1 = p.find_peaks(evoked_n1, time_window_N1)\n",
    "amp_n2, lat_n2 = p.find_peaks(evoked_n2, time_window_N2)\n",
    "amp_p3, lat_p3 = p.find_peaks(evoked_p3, time_window_P3)\n",
    "amp_lpp, lat_lpp = p.find_peaks(evoked_lpp, time_window_LPP)"
   ]
  },
  {
   "cell_type": "code",
   "execution_count": 37,
   "metadata": {},
   "outputs": [],
   "source": [
    "# Append rejection metrics to DataFrame\n",
    "new_metrics = pd.DataFrame(\n",
    "    {'pid': pid,\n",
    "     'total_epochs': p.total_epochs,\n",
    "     'dropped_epochs': p.dropped_epochs,\n",
    "     'perc_dropped': p.perc_dropped},\n",
    "    index=[0])\n",
    "\n",
    "rejection_df = pd.concat([rejection_df.astype(new_metrics.dtypes),\n",
    "                          new_metrics], ignore_index=True)"
   ]
  },
  {
   "cell_type": "code",
   "execution_count": 38,
   "metadata": {},
   "outputs": [],
   "source": [
    "# Append amplitude and latency metrics to DataFrame for all components\n",
    "new_metrics = pd.DataFrame(\n",
    "    {'pid': [pid,pid,pid,pid],\n",
    "     'component': ['N1','N2','P3','LPP'],\n",
    "     'amplitude_peak': [amp_n1,amp_n2,amp_p3,amp_lpp],\n",
    "     'latency_peak': [lat_n1,lat_n2,lat_p3,lat_lpp]},)\n",
    "\n",
    "amplitude_latency_df = pd.concat([amplitude_latency_df.astype(new_metrics.dtypes),\n",
    "                                  new_metrics],ignore_index=True)"
   ]
  },
  {
   "cell_type": "code",
   "execution_count": 39,
   "metadata": {},
   "outputs": [
    {
     "name": "stdout",
     "output_type": "stream",
     "text": [
      "Participant 002 processed.\n"
     ]
    }
   ],
   "source": [
    "# Export DataFrames to csv\n",
    "rejection_df.to_csv(rejection_file_path, mode = 'a', header = True, index=False)\n",
    "amplitude_latency_df.to_csv(cleaned_file_path, mode = 'a', header = False, index=False)\n",
    "\n",
    "print('Participant ' + pid + ' processed.')"
   ]
  }
 ],
 "metadata": {
  "kernelspec": {
   "display_name": "grape",
   "language": "python",
   "name": "python3"
  },
  "language_info": {
   "codemirror_mode": {
    "name": "ipython",
    "version": 3
   },
   "file_extension": ".py",
   "mimetype": "text/x-python",
   "name": "python",
   "nbconvert_exporter": "python",
   "pygments_lexer": "ipython3",
   "version": "3.12.2"
  }
 },
 "nbformat": 4,
 "nbformat_minor": 2
}
